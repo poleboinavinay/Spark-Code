{
 "cells": [
  {
   "cell_type": "code",
   "execution_count": 0,
   "metadata": {
    "application/vnd.databricks.v1+cell": {
     "cellMetadata": {},
     "inputWidgets": {},
     "nuid": "708c1797-c169-4e9e-aa3a-67c7c9db1d51",
     "showTitle": false,
     "tableResultSettingsMap": {},
     "title": ""
    }
   },
   "outputs": [],
   "source": [
    "# FIRST STEP TO DO \n",
    "# Create a dataframe by name empDF using  EMP.parquet file "
   ]
  },
  {
   "cell_type": "code",
   "execution_count": 0,
   "metadata": {
    "application/vnd.databricks.v1+cell": {
     "cellMetadata": {
      "byteLimit": 2048000,
      "rowLimit": 10000
     },
     "inputWidgets": {},
     "nuid": "898eced0-8ee0-4fa5-b381-6f9651d8ad7e",
     "showTitle": false,
     "tableResultSettingsMap": {},
     "title": ""
    }
   },
   "outputs": [
    {
     "output_type": "stream",
     "name": "stdout",
     "output_type": "stream",
     "text": [
      "root\n |-- EMPNO: integer (nullable = true)\n |-- ENAME: string (nullable = true)\n |-- JOB: string (nullable = true)\n |-- MGRID: integer (nullable = true)\n |-- HIREDATE: date (nullable = true)\n |-- SALARY: integer (nullable = true)\n |-- COMM: string (nullable = true)\n |-- DEPTNO: integer (nullable = true)\n\n+-----+------+---------+-----+----------+------+----+------+\n|EMPNO| ENAME|      JOB|MGRID|  HIREDATE|SALARY|COMM|DEPTNO|\n+-----+------+---------+-----+----------+------+----+------+\n| 7369| SMITH|    CLERK| 7902|1980-12-17|   800|   0|    20|\n| 7499| ALLEN| SALESMAN| 7698|1981-02-20|  1600| 300|    30|\n| 7521|  WARD| SALESMAN| 7698|1981-02-22|  1250| 500|    30|\n| 7566| JONES|  MANAGER| 7839|1981-04-02|  2975|   0|    20|\n| 7654|MARTIN| SALESMAN| 7698|1981-09-28|  1250|1400|    30|\n| 7698| BLAKE|  MANAGER| 7839|1981-05-01|  2850|null|    30|\n| 7782| CLARK|  MANAGER| 7839|1981-06-09|  2450|null|    10|\n| 7788| SCOTT|  ANALYST| 7566|1987-04-19|  3000|null|    20|\n| 7839|  KING|PRESIDENT|    0|1981-11-17|  4000|   0|    10|\n| 7844|TURNER| SALESMAN| 7698|1981-09-08|  2500|   0|    30|\n| 7876| ADAMS|    CLERK| 7788|1987-05-23|  1500|   0|    20|\n| 7900| JAMES|    CLERK| 7698|1981-12-03|   950|   0|    30|\n| 7902|  FORD|  ANALYST| 7566|1981-12-03|  3000|   0|    20|\n| 7934|MILLER|    CLERK| 7782|1982-01-23|  2000|   0|    10|\n+-----+------+---------+-----+----------+------+----+------+\n\n"
     ]
    }
   ],
   "source": [
    "empdf=spark.read.option(\"InferSchema\",\"true\").parquet(\"dbfs:/FileStore/EMP.parquet\")\n",
    "empdf.printSchema()\n",
    "empdf.show()"
   ]
  },
  {
   "cell_type": "code",
   "execution_count": 0,
   "metadata": {
    "application/vnd.databricks.v1+cell": {
     "cellMetadata": {
      "byteLimit": 2048000,
      "rowLimit": 10000
     },
     "inputWidgets": {},
     "nuid": "d1559ae5-0e8d-492e-88d4-84a5bae974d1",
     "showTitle": false,
     "tableResultSettingsMap": {},
     "title": ""
    }
   },
   "outputs": [
    {
     "output_type": "stream",
     "name": "stdout",
     "output_type": "stream",
     "text": [
      "+-----+------+---------+-----+----------+------+----+------+\n|EMPNO| ENAME|      JOB|MGRID|  HIREDATE|SALARY|COMM|DEPTNO|\n+-----+------+---------+-----+----------+------+----+------+\n| 7369| SMITH|    CLERK| 7902|1980-12-17|   800|null|    20|\n| 7499| ALLEN| SALESMAN| 7698|1981-02-20|  1600| 300|    30|\n| 7521|  WARD| SALESMAN| 7698|1981-02-22|  1250| 500|    30|\n| 7566| JONES|  MANAGER| 7839|1981-04-02|  2975|null|    20|\n| 7654|MARTIN| SALESMAN| 7698|1981-09-28|  1250|1400|    30|\n| 7698| BLAKE|  MANAGER| 7839|1981-05-01|  2850|null|    30|\n| 7782| CLARK|  MANAGER| 7839|1981-06-09|  2450|null|    10|\n| 7788| SCOTT|  ANALYST| 7566|1987-04-19|  3000|null|    20|\n| 7839|  KING|PRESIDENT|    0|1981-11-17|  4000|null|    10|\n| 7844|TURNER| SALESMAN| 7698|1981-09-08|  2500|null|    30|\n| 7876| ADAMS|    CLERK| 7788|1987-05-23|  1500|null|    20|\n| 7900| JAMES|    CLERK| 7698|1981-12-03|   950|null|    30|\n| 7902|  FORD|  ANALYST| 7566|1981-12-03|  3000|null|    20|\n| 7934|MILLER|    CLERK| 7782|1982-01-23|  2000|null|    10|\n+-----+------+---------+-----+----------+------+----+------+\n\n"
     ]
    }
   ],
   "source": [
    "#CHANGE THE “null” STRING TO ACTUAL NULL VALUE(where evere \"0\" is there all \"0\" are repalcing with \"null\" becaues of its datatype (StringType))\n",
    "from pyspark.sql.functions import * \n",
    "newemp=empdf.withColumn(\"COMM\",when(col(\"COMM\").isin(\"null\", \"0\"),None).otherwise(col(\"COMM\"))) \n",
    "newemp.show()"
   ]
  },
  {
   "cell_type": "code",
   "execution_count": 0,
   "metadata": {
    "application/vnd.databricks.v1+cell": {
     "cellMetadata": {
      "byteLimit": 2048000,
      "rowLimit": 10000
     },
     "inputWidgets": {},
     "nuid": "4ad39f0d-83c0-4f28-b289-993759323ed8",
     "showTitle": false,
     "tableResultSettingsMap": {},
     "title": ""
    }
   },
   "outputs": [
    {
     "output_type": "stream",
     "name": "stdout",
     "output_type": "stream",
     "text": [
      "+-----+------+---------+-----+----------+------+----+------+\n|EMPNO| ENAME|      JOB|MGRID|  HIREDATE|SALARY|COMM|DEPTNO|\n+-----+------+---------+-----+----------+------+----+------+\n| 7369| SMITH|    CLERK| 7902|1980-12-17|   800|null|    20|\n| 7566| JONES|  MANAGER| 7839|1981-04-02|  2975|null|    20|\n| 7698| BLAKE|  MANAGER| 7839|1981-05-01|  2850|null|    30|\n| 7782| CLARK|  MANAGER| 7839|1981-06-09|  2450|null|    10|\n| 7788| SCOTT|  ANALYST| 7566|1987-04-19|  3000|null|    20|\n| 7839|  KING|PRESIDENT|    0|1981-11-17|  4000|null|    10|\n| 7844|TURNER| SALESMAN| 7698|1981-09-08|  2500|null|    30|\n| 7876| ADAMS|    CLERK| 7788|1987-05-23|  1500|null|    20|\n| 7900| JAMES|    CLERK| 7698|1981-12-03|   950|null|    30|\n| 7902|  FORD|  ANALYST| 7566|1981-12-03|  3000|null|    20|\n| 7934|MILLER|    CLERK| 7782|1982-01-23|  2000|null|    10|\n+-----+------+---------+-----+----------+------+----+------+\n\n+-----+------+---------+-----+----------+------+----+------+\n|EMPNO| ENAME|      JOB|MGRID|  HIREDATE|SALARY|COMM|DEPTNO|\n+-----+------+---------+-----+----------+------+----+------+\n| 7369| SMITH|    CLERK| 7902|1980-12-17|   800|null|    20|\n| 7566| JONES|  MANAGER| 7839|1981-04-02|  2975|null|    20|\n| 7698| BLAKE|  MANAGER| 7839|1981-05-01|  2850|null|    30|\n| 7782| CLARK|  MANAGER| 7839|1981-06-09|  2450|null|    10|\n| 7788| SCOTT|  ANALYST| 7566|1987-04-19|  3000|null|    20|\n| 7839|  KING|PRESIDENT|    0|1981-11-17|  4000|null|    10|\n| 7844|TURNER| SALESMAN| 7698|1981-09-08|  2500|null|    30|\n| 7876| ADAMS|    CLERK| 7788|1987-05-23|  1500|null|    20|\n| 7900| JAMES|    CLERK| 7698|1981-12-03|   950|null|    30|\n| 7902|  FORD|  ANALYST| 7566|1981-12-03|  3000|null|    20|\n| 7934|MILLER|    CLERK| 7782|1982-01-23|  2000|null|    10|\n+-----+------+---------+-----+----------+------+----+------+\n\n"
     ]
    }
   ],
   "source": [
    "#                                                                              FIND OUT COMM WITH NULL \n",
    "# 1. USING WHERE: \n",
    "newemp.where(\"COMM is null\").show() \n",
    "# 2. USING isnull() \n",
    "newemp.filter(isnull(\"comm\")).show() "
   ]
  },
  {
   "cell_type": "code",
   "execution_count": 0,
   "metadata": {
    "application/vnd.databricks.v1+cell": {
     "cellMetadata": {
      "byteLimit": 2048000,
      "rowLimit": 10000
     },
     "inputWidgets": {},
     "nuid": "8afcc3cf-eef3-4e6b-a20d-fffcd09f55ab",
     "showTitle": false,
     "tableResultSettingsMap": {},
     "title": ""
    }
   },
   "outputs": [
    {
     "output_type": "stream",
     "name": "stdout",
     "output_type": "stream",
     "text": [
      "+-----+------+--------+-----+----------+------+----+------+\n|EMPNO| ENAME|     JOB|MGRID|  HIREDATE|SALARY|COMM|DEPTNO|\n+-----+------+--------+-----+----------+------+----+------+\n| 7499| ALLEN|SALESMAN| 7698|1981-02-20|  1600| 300|    30|\n| 7521|  WARD|SALESMAN| 7698|1981-02-22|  1250| 500|    30|\n| 7654|MARTIN|SALESMAN| 7698|1981-09-28|  1250|1400|    30|\n+-----+------+--------+-----+----------+------+----+------+\n\n+-----+------+--------+-----+----------+------+----+------+\n|EMPNO| ENAME|     JOB|MGRID|  HIREDATE|SALARY|COMM|DEPTNO|\n+-----+------+--------+-----+----------+------+----+------+\n| 7499| ALLEN|SALESMAN| 7698|1981-02-20|  1600| 300|    30|\n| 7521|  WARD|SALESMAN| 7698|1981-02-22|  1250| 500|    30|\n| 7654|MARTIN|SALESMAN| 7698|1981-09-28|  1250|1400|    30|\n+-----+------+--------+-----+----------+------+----+------+\n\n"
     ]
    }
   ],
   "source": [
    "#                                                                               FIND OUT COMM WITHOUT NULL \n",
    "# 3. USING WHERE \n",
    "newemp.where(\"COMM is NOT null\").show() \n",
    "#4. USING isNotNull() \n",
    "newemp.filter(col(\"COMM\").isNotNull()).show()"
   ]
  },
  {
   "cell_type": "code",
   "execution_count": 0,
   "metadata": {
    "application/vnd.databricks.v1+cell": {
     "cellMetadata": {
      "byteLimit": 2048000,
      "rowLimit": 10000
     },
     "inputWidgets": {},
     "nuid": "b3948d00-448e-4895-b2f8-beb63104e166",
     "showTitle": false,
     "tableResultSettingsMap": {},
     "title": ""
    }
   },
   "outputs": [
    {
     "output_type": "stream",
     "name": "stdout",
     "output_type": "stream",
     "text": [
      "+-----+------+------+\n|empno| ename|NOCOMM|\n+-----+------+------+\n| 7369| SMITH|  true|\n| 7499| ALLEN| false|\n| 7521|  WARD| false|\n| 7566| JONES|  true|\n| 7654|MARTIN| false|\n| 7698| BLAKE|  true|\n| 7782| CLARK|  true|\n| 7788| SCOTT|  true|\n| 7839|  KING|  true|\n| 7844|TURNER|  true|\n| 7876| ADAMS|  true|\n| 7900| JAMES|  true|\n| 7902|  FORD|  true|\n| 7934|MILLER|  true|\n+-----+------+------+\n\n"
     ]
    }
   ],
   "source": [
    "#isnull() WITH SELECT RESULTS BOOLEAN OUTPUT \n",
    "newemp.select(\"empno\", \"ename\",isnull(\"COMM\").alias(\"NOCOMM\")).show()"
   ]
  },
  {
   "cell_type": "code",
   "execution_count": 0,
   "metadata": {
    "application/vnd.databricks.v1+cell": {
     "cellMetadata": {
      "byteLimit": 2048000,
      "rowLimit": 10000
     },
     "inputWidgets": {},
     "nuid": "6a49cd4e-04cf-43ed-9a68-21c9cc84a876",
     "showTitle": false,
     "tableResultSettingsMap": {},
     "title": ""
    }
   },
   "outputs": [
    {
     "output_type": "stream",
     "name": "stdout",
     "output_type": "stream",
     "text": [
      "+-----+------+---------+-----+----------+------+----+------+\n|EMPNO| ENAME|      JOB|MGRID|  HIREDATE|SALARY|COMM|DEPTNO|\n+-----+------+---------+-----+----------+------+----+------+\n| 7369| SMITH|    CLERK| 7902|1980-12-17|   800|   0|    20|\n| 7499| ALLEN| SALESMAN| 7698|1981-02-20|  1600| 300|    30|\n| 7521|  WARD| SALESMAN| 7698|1981-02-22|  1250| 500|    30|\n| 7566| JONES|  MANAGER| 7839|1981-04-02|  2975|   0|    20|\n| 7654|MARTIN| SALESMAN| 7698|1981-09-28|  1250|1400|    30|\n| 7698| BLAKE|  MANAGER| 7839|1981-05-01|  2850|   0|    30|\n| 7782| CLARK|  MANAGER| 7839|1981-06-09|  2450|   0|    10|\n| 7788| SCOTT|  ANALYST| 7566|1987-04-19|  3000|   0|    20|\n| 7839|  KING|PRESIDENT|    0|1981-11-17|  4000|   0|    10|\n| 7844|TURNER| SALESMAN| 7698|1981-09-08|  2500|   0|    30|\n| 7876| ADAMS|    CLERK| 7788|1987-05-23|  1500|   0|    20|\n| 7900| JAMES|    CLERK| 7698|1981-12-03|   950|   0|    30|\n| 7902|  FORD|  ANALYST| 7566|1981-12-03|  3000|   0|    20|\n| 7934|MILLER|    CLERK| 7782|1982-01-23|  2000|   0|    10|\n+-----+------+---------+-----+----------+------+----+------+\n\n"
     ]
    }
   ],
   "source": [
    "#CHANGE THE NULL VALUE TO 0 \n",
    "newemp.fillna({\"COMM\":0}).show()"
   ]
  }
 ],
 "metadata": {
  "application/vnd.databricks.v1+notebook": {
   "computePreferences": null,
   "dashboards": [],
   "environmentMetadata": {
    "base_environment": "",
    "environment_version": "1"
   },
   "inputWidgetPreferences": null,
   "language": "python",
   "notebookMetadata": {
    "pythonIndentUnit": 4
   },
   "notebookName": "DEALING WITH NULL",
   "widgets": {}
  }
 },
 "nbformat": 4,
 "nbformat_minor": 0
}