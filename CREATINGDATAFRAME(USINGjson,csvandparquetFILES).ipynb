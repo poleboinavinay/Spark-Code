{
 "cells": [
  {
   "cell_type": "code",
   "execution_count": 0,
   "metadata": {
    "application/vnd.databricks.v1+cell": {
     "cellMetadata": {
      "byteLimit": 2048000,
      "rowLimit": 10000
     },
     "inputWidgets": {},
     "nuid": "a9bcd646-eee4-45b8-829b-dc571d0148ad",
     "showTitle": true,
     "tableResultSettingsMap": {},
     "title": "First steps to perform"
    }
   },
   "outputs": [],
   "source": [
    "\n",
    "# Put the devices.json, ratings.csv and base_stations.parquet files into\n",
    "# DBFS(Upload the above files into /FileStore/data folder by creating )"
   ]
  },
  {
   "cell_type": "code",
   "execution_count": 0,
   "metadata": {
    "application/vnd.databricks.v1+cell": {
     "cellMetadata": {
      "byteLimit": 2048000,
      "rowLimit": 10000
     },
     "inputWidgets": {},
     "nuid": "26fea1bf-b3b7-4b19-86d6-3fad434a2182",
     "showTitle": true,
     "tableResultSettingsMap": {},
     "title": "CREATING DATAFRAME (DEFAULT SCHEMA ➔ SCHEMAINHERITED BY SPARK)"
    }
   },
   "outputs": [],
   "source": [
    "\n",
    "# 1. From Csv File\n",
    "# On Python\n",
    "# Read the file\n",
    "ratingsdf=spark.read.csv(\"/FileStore/data/ratings.csv\")"
   ]
  },
  {
   "cell_type": "code",
   "execution_count": 0,
   "metadata": {
    "application/vnd.databricks.v1+cell": {
     "cellMetadata": {
      "byteLimit": 2048000,
      "rowLimit": 10000
     },
     "inputWidgets": {},
     "nuid": "7d6af497-9c49-44af-9065-3e260ff5be16",
     "showTitle": true,
     "tableResultSettingsMap": {},
     "title": "Print the schema Read the top 20 rows"
    }
   },
   "outputs": [
    {
     "output_type": "stream",
     "name": "stdout",
     "output_type": "stream",
     "text": [
      "root\n |-- _c0: string (nullable = true)\n |-- _c1: string (nullable = true)\n |-- _c2: string (nullable = true)\n |-- _c3: string (nullable = true)\n\n+------+-------+------+----------+\n|   _c0|    _c1|   _c2|       _c3|\n+------+-------+------+----------+\n|userId|movieId|rating| timestamp|\n|     1|      2|   3.5|1112486027|\n|     1|     29|   3.5|1112484676|\n|     1|     32|   3.5|1112484819|\n|     1|     47|   3.5|1112484727|\n|     1|     50|   3.5|1112484580|\n|     1|    112|   3.5|1094785740|\n|     1|    151|   4.0|1094785734|\n|     1|    223|   4.0|1112485573|\n|     1|    253|   4.0|1112484940|\n|     1|    260|   4.0|1112484826|\n|     1|    293|   4.0|1112484703|\n|     1|    296|   4.0|1112484767|\n|     1|    318|   4.0|1112484798|\n|     1|    337|   3.5|1094785709|\n|     1|    367|   3.5|1112485980|\n|     1|    541|   4.0|1112484603|\n|     1|    589|   3.5|1112485557|\n|     1|    593|   3.5|1112484661|\n|     1|    653|   3.0|1094785691|\n+------+-------+------+----------+\nonly showing top 20 rows\n\n"
     ]
    }
   ],
   "source": [
    "#Print the schema\n",
    "ratingsdf.printSchema()\n",
    "#Read the top 20 rows\n",
    "ratingsdf.show()"
   ]
  },
  {
   "cell_type": "code",
   "execution_count": 0,
   "metadata": {
    "application/vnd.databricks.v1+cell": {
     "cellMetadata": {
      "byteLimit": 2048000,
      "rowLimit": 10000
     },
     "inputWidgets": {},
     "nuid": "2fe3b4a1-ef0b-4b8d-bdee-d173354b657c",
     "showTitle": true,
     "tableResultSettingsMap": {},
     "title": "Reading devices_json file"
    }
   },
   "outputs": [
    {
     "output_type": "stream",
     "name": "stdout",
     "output_type": "stream",
     "text": [
      "root\n |-- dev_type: string (nullable = true)\n |-- devnum: long (nullable = true)\n |-- make: string (nullable = true)\n |-- model: string (nullable = true)\n |-- release_dt: string (nullable = true)\n\n+--------+------+--------+--------------+--------------------+\n|dev_type|devnum|    make|         model|          release_dt|\n+--------+------+--------+--------------+--------------------+\n|   phone|     1|Sorrento|          F00L|2008-10-21T00:00:...|\n|   phone|     2| Titanic|          2100|2010-04-19T00:00:...|\n|   phone|     3|  MeeToo|           3.0|2011-02-18T00:00:...|\n|   phone|     4|  MeeToo|           3.1|2011-09-21T00:00:...|\n|   phone|     5|  iFruit|             1|2008-10-21T00:00:...|\n|   phone|     6|  iFruit|             3|2011-11-02T00:00:...|\n|   phone|     7|  iFruit|             2|2010-05-20T00:00:...|\n|   phone|     8|  iFruit|             5|2013-07-02T00:00:...|\n|   phone|     9| Titanic|          1000|2008-10-21T00:00:...|\n|   phone|    10|  MeeToo|           1.0|2008-10-21T00:00:...|\n|   phone|    11|Sorrento|          F21L|2011-02-28T00:00:...|\n|   phone|    12|  iFruit|             4|2012-10-25T00:00:...|\n|   phone|    13|Sorrento|          F23L|2011-11-21T00:00:...|\n|   phone|    14| Titanic|          2200|2010-05-25T00:00:...|\n|   phone|    15|   Ronin|Novelty Note 1|2010-06-20T00:00:...|\n|   phone|    16| Titanic|          2500|2012-07-21T00:00:...|\n|   phone|    17|   Ronin|Novelty Note 3|2013-04-11T00:00:...|\n|   phone|    18|   Ronin|Novelty Note 2|2011-10-02T00:00:...|\n|   phone|    19|   Ronin|Novelty Note 4|2013-07-02T00:00:...|\n|   phone|    20|  iFruit|            3A|2012-07-21T00:00:...|\n+--------+------+--------+--------------+--------------------+\nonly showing top 20 rows\n\n"
     ]
    }
   ],
   "source": [
    "#Repeat the same for json file as above using “spark.read.json” method.\n",
    "devices_df=spark.read.json(\"/FileStore/data/devices.json\")\n",
    "#printing Schema\n",
    "devices_df.printSchema()\n",
    "#Read the top 20 rows\n",
    "devices_df.show(20)\n"
   ]
  },
  {
   "cell_type": "code",
   "execution_count": 0,
   "metadata": {
    "application/vnd.databricks.v1+cell": {
     "cellMetadata": {
      "byteLimit": 2048000,
      "rowLimit": 10000
     },
     "inputWidgets": {},
     "nuid": "438db4ea-b5de-4c34-bc2f-9bc435881215",
     "showTitle": true,
     "tableResultSettingsMap": {},
     "title": "Reading base_stations.parquet"
    }
   },
   "outputs": [
    {
     "output_type": "stream",
     "name": "stdout",
     "output_type": "stream",
     "text": [
      "root\n |-- id: integer (nullable = true)\n |-- zip: string (nullable = true)\n |-- city: string (nullable = true)\n |-- state: string (nullable = true)\n |-- lat: double (nullable = true)\n |-- lon: double (nullable = true)\n\n+---+-----+-------------+-----+-------+---------+\n| id|  zip|         city|state|    lat|      lon|\n+---+-----+-------------+-----+-------+---------+\n|  1|86502|     Chambers|   AZ|35.2375| -109.523|\n|  2|86514| Teec Nos Pos|   AZ|36.7797| -109.359|\n|  3|85602|       Benson|   AZ|31.9883|-110.2941|\n|  4|86011|    Flagstaff|   AZ|35.6308|-112.0524|\n|  5|86016|Gray Mountain|   AZ|35.6308|-112.0524|\n|  6|86018|        Parks|   AZ|35.2563|  -111.95|\n|  7|86336|       Sedona|   AZ|34.8266|-111.7506|\n|  8|85547|       Payson|   AZ|34.2575|-111.2878|\n|  9|85548|      Safford|   AZ| 32.797|-109.7522|\n| 10|85533|      Clifton|   AZ|33.1323|-109.2462|\n| 11|85922|         Blue|   AZ|33.6512|-109.0685|\n| 12|85075|      Phoenix|   AZ|33.2765|-112.1872|\n| 13|85202|         Mesa|   AZ|33.3851|-111.8724|\n| 14|85254|   Scottsdale|   AZ|33.6165|-111.9554|\n| 15|85255|   Scottsdale|   AZ|33.6968|-111.8892|\n| 16|85320|       Aguila|   AZ|33.2765|-112.1872|\n| 17|85339|       Laveen|   AZ|33.3436|-112.1716|\n| 18|85381|       Peoria|   AZ|33.6048|-112.2237|\n| 19|86430|Bullhead City|   AZ|35.1473|-114.5433|\n| 20|86434|Peach Springs|   AZ|35.5378|-113.4202|\n+---+-----+-------------+-----+-------+---------+\nonly showing top 20 rows\n\n"
     ]
    }
   ],
   "source": [
    "#Use “spark.read.parquet” and read the file, printschema and display the data.\n",
    "base_stations_df=spark.read.parquet(\"/FileStore/data/base_stations.parquet\")\n",
    "#printing schema\n",
    "base_stations_df.printSchema()\n",
    "#Read the top 20 rows\n",
    "base_stations_df.show(20)"
   ]
  },
  {
   "cell_type": "code",
   "execution_count": 0,
   "metadata": {
    "application/vnd.databricks.v1+cell": {
     "cellMetadata": {
      "byteLimit": 2048000,
      "rowLimit": 10000
     },
     "inputWidgets": {},
     "nuid": "0ad3012b-615c-4ffa-9f67-da5afd1a749f",
     "showTitle": true,
     "tableResultSettingsMap": {},
     "title": "USING THE HEADER OPTION FOR CSV FILE"
    }
   },
   "outputs": [
    {
     "output_type": "stream",
     "name": "stdout",
     "output_type": "stream",
     "text": [
      "root\n |-- userId: string (nullable = true)\n |-- movieId: string (nullable = true)\n |-- rating: string (nullable = true)\n |-- timestamp: string (nullable = true)\n\n+------+-------+------+----------+\n|userId|movieId|rating| timestamp|\n+------+-------+------+----------+\n|     1|      2|   3.5|1112486027|\n|     1|     29|   3.5|1112484676|\n|     1|     32|   3.5|1112484819|\n|     1|     47|   3.5|1112484727|\n|     1|     50|   3.5|1112484580|\n|     1|    112|   3.5|1094785740|\n|     1|    151|   4.0|1094785734|\n|     1|    223|   4.0|1112485573|\n|     1|    253|   4.0|1112484940|\n|     1|    260|   4.0|1112484826|\n|     1|    293|   4.0|1112484703|\n|     1|    296|   4.0|1112484767|\n|     1|    318|   4.0|1112484798|\n|     1|    337|   3.5|1094785709|\n|     1|    367|   3.5|1112485980|\n|     1|    541|   4.0|1112484603|\n|     1|    589|   3.5|1112485557|\n|     1|    593|   3.5|1112484661|\n|     1|    653|   3.0|1094785691|\n|     1|    919|   3.5|1094785621|\n+------+-------+------+----------+\nonly showing top 20 rows\n\n"
     ]
    }
   ],
   "source": [
    "# In ratings.csv file the first line is header, as you have observed in\n",
    "# earlier exercise Spark has not taken the header and given its own\n",
    "# column names. Using format and option methods we will instruct\n",
    "# spark to take the first line as header of ratings.csv file.\n",
    "ratingsdf=spark.read.format(\"csv\").option(\"header\",\"true\").load(\"/FileStore/data/ratings.csv\")\n",
    "ratingsdf.printSchema()\n",
    "ratingsdf.show()\n"
   ]
  },
  {
   "cell_type": "code",
   "execution_count": 0,
   "metadata": {
    "application/vnd.databricks.v1+cell": {
     "cellMetadata": {
      "byteLimit": 2048000,
      "rowLimit": 10000
     },
     "inputWidgets": {},
     "nuid": "9a0fc0f0-8d66-4af0-bbd4-08ac9bd4e957",
     "showTitle": true,
     "tableResultSettingsMap": {},
     "title": "CREATING DATAFRAME FROM MEMORY"
    }
   },
   "outputs": [
    {
     "output_type": "stream",
     "name": "stdout",
     "output_type": "stream",
     "text": [
      "root\n |-- AGE: long (nullable = true)\n |-- NAME: string (nullable = true)\n\n+---+----+\n|AGE|NAME|\n+---+----+\n| 20| sai|\n| 15| sam|\n+---+----+\n\n"
     ]
    }
   ],
   "source": [
    "mydata =[{\"NAME\":\"sai\",\"AGE\":20},{\"NAME\":\"sam\",\"AGE\":15}]\n",
    "mydf=spark.createDataFrame(mydata)\n",
    "mydf.printSchema()\n",
    "mydf.show()"
   ]
  },
  {
   "cell_type": "code",
   "execution_count": 0,
   "metadata": {
    "application/vnd.databricks.v1+cell": {
     "cellMetadata": {
      "byteLimit": 2048000,
      "rowLimit": 10000
     },
     "inputWidgets": {},
     "nuid": "295f977f-2dde-40bf-a6eb-994b5b3bb4ce",
     "showTitle": true,
     "tableResultSettingsMap": {},
     "title": "DATAFRAME ACTIONCOMMANDS"
    }
   },
   "outputs": [
    {
     "output_type": "stream",
     "name": "stdout",
     "output_type": "stream",
     "text": [
      "Out[8]: 50"
     ]
    }
   ],
   "source": [
    "#Below action commands prints the result to terminal, do not save the result.\n",
    "#1. COUNT: Returns the number of rows.\n",
    "devices_df.count()\n"
   ]
  },
  {
   "cell_type": "code",
   "execution_count": 0,
   "metadata": {
    "application/vnd.databricks.v1+cell": {
     "cellMetadata": {
      "byteLimit": 2048000,
      "rowLimit": 10000
     },
     "inputWidgets": {},
     "nuid": "98e6f60c-d965-4378-9a2c-4183fd72d072",
     "showTitle": true,
     "tableResultSettingsMap": {},
     "title": "2.FIRST"
    }
   },
   "outputs": [
    {
     "output_type": "stream",
     "name": "stdout",
     "output_type": "stream",
     "text": [
      "Out[9]: Row(dev_type='phone', devnum=1, make='Sorrento', model='F00L', release_dt='2008-10-21T00:00:00.000-07:00')"
     ]
    }
   ],
   "source": [
    "\n",
    "#2. FIRST: Returns the first row(synonym for head())\n",
    "devices_df.first()\n"
   ]
  },
  {
   "cell_type": "code",
   "execution_count": 0,
   "metadata": {
    "application/vnd.databricks.v1+cell": {
     "cellMetadata": {
      "byteLimit": 2048000,
      "rowLimit": 10000
     },
     "inputWidgets": {},
     "nuid": "a5af4628-ab9d-4ad7-a08a-ad6d092e5054",
     "showTitle": true,
     "tableResultSettingsMap": {},
     "title": "3.TAKE:"
    }
   },
   "outputs": [
    {
     "output_type": "stream",
     "name": "stdout",
     "output_type": "stream",
     "text": [
      "Out[11]: [Row(dev_type='phone', devnum=1, make='Sorrento', model='F00L', release_dt='2008-10-21T00:00:00.000-07:00'),\n Row(dev_type='phone', devnum=2, make='Titanic', model='2100', release_dt='2010-04-19T00:00:00.000-07:00'),\n Row(dev_type='phone', devnum=3, make='MeeToo', model='3.0', release_dt='2011-02-18T00:00:00.000-08:00'),\n Row(dev_type='phone', devnum=4, make='MeeToo', model='3.1', release_dt='2011-09-21T00:00:00.000-07:00')]"
     ]
    }
   ],
   "source": [
    "#3.TAKE: Returns the first n rows in array. (synonym for head(n)) \n",
    "devices_df.take(4) \n"
   ]
  },
  {
   "cell_type": "code",
   "execution_count": 0,
   "metadata": {
    "application/vnd.databricks.v1+cell": {
     "cellMetadata": {
      "byteLimit": 2048000,
      "rowLimit": 10000
     },
     "inputWidgets": {},
     "nuid": "9a761263-50e4-4105-80fb-fb882cbf0269",
     "showTitle": true,
     "tableResultSettingsMap": {},
     "title": "4. SHOW:"
    }
   },
   "outputs": [
    {
     "output_type": "stream",
     "name": "stdout",
     "output_type": "stream",
     "text": [
      "+--------+------+--------+--------------+--------------------+\n|dev_type|devnum|    make|         model|          release_dt|\n+--------+------+--------+--------------+--------------------+\n|   phone|     1|Sorrento|          F00L|2008-10-21T00:00:...|\n|   phone|     2| Titanic|          2100|2010-04-19T00:00:...|\n|   phone|     3|  MeeToo|           3.0|2011-02-18T00:00:...|\n|   phone|     4|  MeeToo|           3.1|2011-09-21T00:00:...|\n|   phone|     5|  iFruit|             1|2008-10-21T00:00:...|\n|   phone|     6|  iFruit|             3|2011-11-02T00:00:...|\n|   phone|     7|  iFruit|             2|2010-05-20T00:00:...|\n|   phone|     8|  iFruit|             5|2013-07-02T00:00:...|\n|   phone|     9| Titanic|          1000|2008-10-21T00:00:...|\n|   phone|    10|  MeeToo|           1.0|2008-10-21T00:00:...|\n|   phone|    11|Sorrento|          F21L|2011-02-28T00:00:...|\n|   phone|    12|  iFruit|             4|2012-10-25T00:00:...|\n|   phone|    13|Sorrento|          F23L|2011-11-21T00:00:...|\n|   phone|    14| Titanic|          2200|2010-05-25T00:00:...|\n|   phone|    15|   Ronin|Novelty Note 1|2010-06-20T00:00:...|\n|   phone|    16| Titanic|          2500|2012-07-21T00:00:...|\n|   phone|    17|   Ronin|Novelty Note 3|2013-04-11T00:00:...|\n|   phone|    18|   Ronin|Novelty Note 2|2011-10-02T00:00:...|\n|   phone|    19|   Ronin|Novelty Note 4|2013-07-02T00:00:...|\n|   phone|    20|  iFruit|            3A|2012-07-21T00:00:...|\n+--------+------+--------+--------------+--------------------+\nonly showing top 20 rows\n\n+--------+------+--------+-----+--------------------+\n|dev_type|devnum|    make|model|          release_dt|\n+--------+------+--------+-----+--------------------+\n|   phone|     1|Sorrento| F00L|2008-10-21T00:00:...|\n|   phone|     2| Titanic| 2100|2010-04-19T00:00:...|\n|   phone|     3|  MeeToo|  3.0|2011-02-18T00:00:...|\n|   phone|     4|  MeeToo|  3.1|2011-09-21T00:00:...|\n|   phone|     5|  iFruit|    1|2008-10-21T00:00:...|\n|   phone|     6|  iFruit|    3|2011-11-02T00:00:...|\n|   phone|     7|  iFruit|    2|2010-05-20T00:00:...|\n|   phone|     8|  iFruit|    5|2013-07-02T00:00:...|\n|   phone|     9| Titanic| 1000|2008-10-21T00:00:...|\n|   phone|    10|  MeeToo|  1.0|2008-10-21T00:00:...|\n+--------+------+--------+-----+--------------------+\nonly showing top 10 rows\n\n"
     ]
    }
   ],
   "source": [
    "#4. SHOW: Display the first n rows in tabular form (Default 20 rows) \n",
    "devices_df.show() \n",
    "devices_df.show(10) \n"
   ]
  },
  {
   "cell_type": "code",
   "execution_count": 0,
   "metadata": {
    "application/vnd.databricks.v1+cell": {
     "cellMetadata": {
      "byteLimit": 2048000,
      "rowLimit": 10000
     },
     "inputWidgets": {},
     "nuid": "e6eecae1-4887-4106-bad6-b1310e576986",
     "showTitle": true,
     "tableResultSettingsMap": {},
     "title": "5. COLLECT"
    }
   },
   "outputs": [
    {
     "output_type": "stream",
     "name": "stdout",
     "output_type": "stream",
     "text": [
      "Out[15]: [Row(dev_type='phone', devnum=1, make='Sorrento', model='F00L', release_dt='2008-10-21T00:00:00.000-07:00'),\n Row(dev_type='phone', devnum=2, make='Titanic', model='2100', release_dt='2010-04-19T00:00:00.000-07:00'),\n Row(dev_type='phone', devnum=3, make='MeeToo', model='3.0', release_dt='2011-02-18T00:00:00.000-08:00'),\n Row(dev_type='phone', devnum=4, make='MeeToo', model='3.1', release_dt='2011-09-21T00:00:00.000-07:00'),\n Row(dev_type='phone', devnum=5, make='iFruit', model='1', release_dt='2008-10-21T00:00:00.000-07:00'),\n Row(dev_type='phone', devnum=6, make='iFruit', model='3', release_dt='2011-11-02T00:00:00.000-07:00'),\n Row(dev_type='phone', devnum=7, make='iFruit', model='2', release_dt='2010-05-20T00:00:00.000-07:00'),\n Row(dev_type='phone', devnum=8, make='iFruit', model='5', release_dt='2013-07-02T00:00:00.000-07:00'),\n Row(dev_type='phone', devnum=9, make='Titanic', model='1000', release_dt='2008-10-21T00:00:00.000-07:00'),\n Row(dev_type='phone', devnum=10, make='MeeToo', model='1.0', release_dt='2008-10-21T00:00:00.000-07:00'),\n Row(dev_type='phone', devnum=11, make='Sorrento', model='F21L', release_dt='2011-02-28T00:00:00.000-08:00'),\n Row(dev_type='phone', devnum=12, make='iFruit', model='4', release_dt='2012-10-25T00:00:00.000-07:00'),\n Row(dev_type='phone', devnum=13, make='Sorrento', model='F23L', release_dt='2011-11-21T00:00:00.000-08:00'),\n Row(dev_type='phone', devnum=14, make='Titanic', model='2200', release_dt='2010-05-25T00:00:00.000-07:00'),\n Row(dev_type='phone', devnum=15, make='Ronin', model='Novelty Note 1', release_dt='2010-06-20T00:00:00.000-07:00'),\n Row(dev_type='phone', devnum=16, make='Titanic', model='2500', release_dt='2012-07-21T00:00:00.000-07:00'),\n Row(dev_type='phone', devnum=17, make='Ronin', model='Novelty Note 3', release_dt='2013-04-11T00:00:00.000-07:00'),\n Row(dev_type='phone', devnum=18, make='Ronin', model='Novelty Note 2', release_dt='2011-10-02T00:00:00.000-07:00'),\n Row(dev_type='phone', devnum=19, make='Ronin', model='Novelty Note 4', release_dt='2013-07-02T00:00:00.000-07:00'),\n Row(dev_type='phone', devnum=20, make='iFruit', model='3A', release_dt='2012-07-21T00:00:00.000-07:00'),\n Row(dev_type='phone', devnum=21, make='Titanic', model='2300', release_dt='2011-02-18T00:00:00.000-08:00'),\n Row(dev_type='phone', devnum=22, make='Sorrento', model='F24L', release_dt='2012-03-12T00:00:00.000-07:00'),\n Row(dev_type='phone', devnum=23, make='Sorrento', model='F20L', release_dt='2010-11-01T00:00:00.000-07:00'),\n Row(dev_type='phone', devnum=24, make='Sorrento', model='F32L', release_dt='2012-10-21T00:00:00.000-07:00'),\n Row(dev_type='phone', devnum=25, make='Sorrento', model='F22L', release_dt='2011-10-01T00:00:00.000-07:00'),\n Row(dev_type='phone', devnum=26, make='Sorrento', model='F30L', release_dt='2012-06-21T00:00:00.000-07:00'),\n Row(dev_type='phone', devnum=27, make='Sorrento', model='F10L', release_dt='2009-10-25T00:00:00.000-07:00'),\n Row(dev_type='phone', devnum=28, make='Titanic', model='4000', release_dt='2012-09-21T00:00:00.000-07:00'),\n Row(dev_type='phone', devnum=29, make='Sorrento', model='F41L', release_dt='2013-11-01T00:00:00.000-07:00'),\n Row(dev_type='phone', devnum=30, make='Titanic', model='DeckChairs', release_dt='2013-08-01T00:00:00.000-07:00'),\n Row(dev_type='phone', devnum=31, make='MeeToo', model='4.1', release_dt='2012-08-04T00:00:00.000-07:00'),\n Row(dev_type='phone', devnum=32, make='MeeToo', model='4.0', release_dt='2012-07-21T00:00:00.000-07:00'),\n Row(dev_type='phone', devnum=33, make='MeeToo', model='2.0', release_dt='2010-05-15T00:00:00.000-07:00'),\n Row(dev_type='phone', devnum=34, make='Titanic', model='2000', release_dt='2009-12-21T00:00:00.000-08:00'),\n Row(dev_type='phone', devnum=35, make='MeeToo', model='5.0', release_dt='2012-09-21T00:00:00.000-07:00'),\n Row(dev_type='phone', devnum=36, make='MeeToo', model='5.1', release_dt='2013-08-01T00:00:00.000-07:00'),\n Row(dev_type='phone', devnum=37, make='Titanic', model='3000', release_dt='2012-08-04T00:00:00.000-07:00'),\n Row(dev_type='phone', devnum=38, make='Titanic', model='1100', release_dt='2008-11-25T00:00:00.000-08:00'),\n Row(dev_type='phone', devnum=39, make='Sorrento', model='F33L', release_dt='2013-03-11T00:00:00.000-07:00'),\n Row(dev_type='phone', devnum=40, make='iFruit', model='4A', release_dt='2013-02-11T00:00:00.000-08:00'),\n Row(dev_type='phone', devnum=41, make='Sorrento', model='F31L', release_dt='2012-07-04T00:00:00.000-07:00'),\n Row(dev_type='phone', devnum=42, make='Sorrento', model='F40L', release_dt='2013-06-26T00:00:00.000-07:00'),\n Row(dev_type='phone', devnum=43, make='Sorrento', model='F01L', release_dt='2009-03-11T00:00:00.000-07:00'),\n Row(dev_type='phone', devnum=44, make='Sorrento', model='F11L', release_dt='2010-04-10T00:00:00.000-07:00'),\n Row(dev_type='phone', devnum=45, make='Titanic', model='2400', release_dt='2011-09-21T00:00:00.000-07:00'),\n Row(dev_type='phone', devnum=46, make='Ronin', model='S4', release_dt='2013-10-02T00:00:00.000-07:00'),\n Row(dev_type='phone', devnum=47, make='Ronin', model='S1', release_dt='2010-05-20T00:00:00.000-07:00'),\n Row(dev_type='phone', devnum=48, make='Ronin', model='S3', release_dt='2013-02-11T00:00:00.000-08:00'),\n Row(dev_type='phone', devnum=49, make='Ronin', model='S2', release_dt='2012-07-21T00:00:00.000-07:00'),\n Row(dev_type='phone', devnum=50, make='iFruit', model='5A', release_dt='2013-10-02T00:00:00.000-07:00')]"
     ]
    }
   ],
   "source": [
    "#5. COLLECT: Returns all the rows in the dataFrame as an array \n",
    "devices_df.collect()"
   ]
  },
  {
   "cell_type": "code",
   "execution_count": 0,
   "metadata": {
    "application/vnd.databricks.v1+cell": {
     "cellMetadata": {
      "byteLimit": 2048000,
      "rowLimit": 10000
     },
     "inputWidgets": {},
     "nuid": "9ba31f46-53e1-40cc-9795-9da0eebd6d85",
     "showTitle": true,
     "tableResultSettingsMap": {},
     "title": "DATAFRAME WRITE"
    }
   },
   "outputs": [],
   "source": [
    "#Using write method we can save the result to a file or a data source. \n",
    "#1. Writing data as default parquet format \n",
    "#On Scala \n",
    "mydf.write.save(\"/FileStore/data/mydata1\") \n",
    "#NOTE: Default storage format from Spark 2 is Parquet, and we must specify a directory (must not exist)"
   ]
  },
  {
   "cell_type": "code",
   "execution_count": 0,
   "metadata": {
    "application/vnd.databricks.v1+cell": {
     "cellMetadata": {
      "byteLimit": 2048000,
      "rowLimit": 10000
     },
     "inputWidgets": {},
     "nuid": "3e2870a9-dca9-4138-a1f2-9e023bbd7cb7",
     "showTitle": true,
     "tableResultSettingsMap": {},
     "title": "2. Saving in same directory (Existing)"
    }
   },
   "outputs": [],
   "source": [
    "#2. Saving in same directory (Existing) \n",
    "mydf.write.mode(\"append\").save(\"/FileStore/data/mydata1\") "
   ]
  },
  {
   "cell_type": "code",
   "execution_count": 0,
   "metadata": {
    "application/vnd.databricks.v1+cell": {
     "cellMetadata": {
      "byteLimit": 2048000,
      "rowLimit": 10000
     },
     "inputWidgets": {},
     "nuid": "a7bd4897-acce-463b-adcd-f0125391429c",
     "showTitle": true,
     "tableResultSettingsMap": {},
     "title": "3. Saving in other File format."
    }
   },
   "outputs": [],
   "source": [
    "# 3. Saving in other File format. \n",
    "mydf.write.csv(\"/FileStore/data/csvoutput\") "
   ]
  }
 ],
 "metadata": {
  "application/vnd.databricks.v1+notebook": {
   "computePreferences": null,
   "dashboards": [],
   "environmentMetadata": {
    "base_environment": "",
    "environment_version": "1"
   },
   "inputWidgetPreferences": null,
   "language": "python",
   "notebookMetadata": {
    "pythonIndentUnit": 4
   },
   "notebookName": "CREATINGDATAFRAME(USINGjson,csvandparquetFILES)",
   "widgets": {}
  }
 },
 "nbformat": 4,
 "nbformat_minor": 0
}